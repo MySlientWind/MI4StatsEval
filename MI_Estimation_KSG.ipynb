{
 "cells": [
  {
   "cell_type": "markdown",
   "metadata": {},
   "source": [
    "# Estimate MI with BA Bound"
   ]
  },
  {
   "cell_type": "code",
   "execution_count": 1,
   "metadata": {},
   "outputs": [],
   "source": [
    "import numpy as np\n",
    "from tools.KSG import kraskov_mi\n",
    "from sklearn.model_selection import train_test_split\n",
    "from tools.Trainer import train_SumNet\n",
    "from tools.Trainer import feature_selection\n",
    "import torch"
   ]
  },
  {
   "cell_type": "markdown",
   "metadata": {},
   "source": [
    "## Pure Signal"
   ]
  },
  {
   "cell_type": "markdown",
   "metadata": {},
   "source": [
    "### 1. ST"
   ]
  },
  {
   "cell_type": "code",
   "execution_count": 21,
   "metadata": {},
   "outputs": [],
   "source": [
    "st_pure=np.load('dataset/data_for_paper/pure_signal/ST.npy')\n",
    "param=np.load('dataset/data_for_paper/pure_signal/params.npy')"
   ]
  },
  {
   "cell_type": "code",
   "execution_count": 22,
   "metadata": {},
   "outputs": [],
   "source": [
    "st_pure=(st_pure-np.mean(st_pure,axis=0))/np.std(st_pure,axis=0)\n",
    "param=(param-np.array([5,1.7]))/np.array([1,0.7])"
   ]
  },
  {
   "cell_type": "code",
   "execution_count": null,
   "metadata": {},
   "outputs": [],
   "source": [
    "st_pure_train,st_pure_test,param_train,param_test= train_test_split(st_pure,param,test_size=0.5,random_state=42)\n",
    "sumnet=train_SumNet(st_pure_train,param_train,\n",
    "                    train_info={'epochs':2000,'batch_size':100,'learning_rate':5e-3},\n",
    "                    verbose=True)"
   ]
  },
  {
   "cell_type": "code",
   "execution_count": null,
   "metadata": {},
   "outputs": [],
   "source": [
    "sumnet.cpu();\n",
    "st_pure_sum=sumnet(torch.tensor(st_pure_test,dtype=torch.float)).detach().numpy()"
   ]
  },
  {
   "cell_type": "markdown",
   "metadata": {},
   "source": [
    "Final Results"
   ]
  },
  {
   "cell_type": "code",
   "execution_count": 24,
   "metadata": {},
   "outputs": [
    {
     "data": {
      "text/plain": [
       "5.142791028981829"
      ]
     },
     "execution_count": 24,
     "metadata": {},
     "output_type": "execute_result"
    }
   ],
   "source": [
    "kraskov_mi(st_pure_sum,param_test)"
   ]
  },
  {
   "cell_type": "markdown",
   "metadata": {},
   "source": [
    "### 2. PS"
   ]
  },
  {
   "cell_type": "code",
   "execution_count": 10,
   "metadata": {},
   "outputs": [],
   "source": [
    "ps_pure=np.load('dataset/data_for_paper/pure_signal/PS.npy')\n",
    "param=np.load('dataset/data_for_paper/pure_signal/params.npy')"
   ]
  },
  {
   "cell_type": "code",
   "execution_count": 11,
   "metadata": {},
   "outputs": [],
   "source": [
    "ps_pure=(ps_pure-np.mean(ps_pure,axis=0))/np.std(ps_pure,axis=0)\n",
    "\n",
    "param=(param-np.array([5,1.7]))/np.array([1,0.7])"
   ]
  },
  {
   "cell_type": "code",
   "execution_count": null,
   "metadata": {},
   "outputs": [],
   "source": [
    "ps_pure_train,ps_pure_test,param_train,param_test= train_test_split(ps_pure,param,test_size=0.5,random_state=42)\n",
    "sumnet=train_SumNet(ps_pure_train,param_train,\n",
    "                    train_info={'epochs':2000,'batch_size':100,'learning_rate':5e-3},\n",
    "                    verbose=True)"
   ]
  },
  {
   "cell_type": "code",
   "execution_count": null,
   "metadata": {},
   "outputs": [],
   "source": [
    "sumnet.cpu();\n",
    "ps_pure_sum=sumnet(torch.tensor(ps_pure_test,dtype=torch.float)).detach().numpy()"
   ]
  },
  {
   "cell_type": "markdown",
   "metadata": {},
   "source": [
    "Final Results"
   ]
  },
  {
   "cell_type": "code",
   "execution_count": 13,
   "metadata": {},
   "outputs": [
    {
     "data": {
      "text/plain": [
       "4.04010843849721"
      ]
     },
     "execution_count": 13,
     "metadata": {},
     "output_type": "execute_result"
    }
   ],
   "source": [
    "kraskov_mi(ps_pure_sum,param_test)"
   ]
  },
  {
   "cell_type": "markdown",
   "metadata": {},
   "source": [
    "### 3. BS"
   ]
  },
  {
   "cell_type": "code",
   "execution_count": null,
   "metadata": {},
   "outputs": [],
   "source": [
    "bs_pure=np.load('dataset/data_for_paper/pure_signal/BS.npy')\n",
    "param=np.load('dataset/data_for_paper/pure_signal/params.npy')"
   ]
  },
  {
   "cell_type": "code",
   "execution_count": null,
   "metadata": {},
   "outputs": [],
   "source": [
    "bs_pure=(bs_pure-np.mean(bs_pure,axis=0))/np.std(bs_pure,axis=0)\n",
    "\n",
    "param=(param-np.array([5,1.7]))/np.array([1,0.7])"
   ]
  },
  {
   "cell_type": "code",
   "execution_count": null,
   "metadata": {},
   "outputs": [],
   "source": [
    "bs_pure_train,bs_pure_test,param_train,param_test= train_test_split(bs_pure,param,test_size=0.5,random_state=42)\n",
    "sumnet=train_SumNet(bs_pure_train,param_train,\n",
    "                    train_info={'epochs':2000,'batch_size':100,'learning_rate':5e-3},\n",
    "                    verbose=True)"
   ]
  },
  {
   "cell_type": "code",
   "execution_count": null,
   "metadata": {},
   "outputs": [],
   "source": [
    "sumnet.cpu();\n",
    "bs_pure_sum=sumnet(torch.tensor(bs_pure_test,dtype=torch.float)).detach().numpy()"
   ]
  },
  {
   "cell_type": "markdown",
   "metadata": {},
   "source": [
    "Final Results"
   ]
  },
  {
   "cell_type": "code",
   "execution_count": null,
   "metadata": {},
   "outputs": [
    {
     "data": {
      "text/plain": [
       "4.04010843849721"
      ]
     },
     "metadata": {},
     "output_type": "display_data"
    }
   ],
   "source": [
    "kraskov_mi(bs_pure_sum,param_test)"
   ]
  },
  {
   "cell_type": "markdown",
   "metadata": {},
   "source": [
    "### 4. BS&PS"
   ]
  },
  {
   "cell_type": "code",
   "execution_count": 20,
   "metadata": {},
   "outputs": [],
   "source": [
    "bs=np.load('dataset/data_for_paper/pure_signal/BS.npy')\n",
    "ps=np.load('dataset/data_for_paper/pure_signal/PS.npy')\n",
    "pb_pure=np.hstack([ps,bs])\n",
    "param=np.load('dataset/data_for_paper/pure_signal/params.npy')"
   ]
  },
  {
   "cell_type": "code",
   "execution_count": 21,
   "metadata": {},
   "outputs": [],
   "source": [
    "pb_pure=(pb_pure-np.mean(pb_pure,axis=0))/np.std(pb_pure,axis=0)\n",
    "\n",
    "param=(param-np.array([5,1.7]))/np.array([1,0.7])"
   ]
  },
  {
   "cell_type": "code",
   "execution_count": null,
   "metadata": {},
   "outputs": [],
   "source": [
    "pb_pure_train,pb_pure_test,param_train,param_test= train_test_split(pb_pure,param,test_size=0.5,random_state=42)\n",
    "sumnet=train_SumNet(pb_pure_train,param_train,\n",
    "                    train_info={'epochs':2000,'batch_size':100,'learning_rate':5e-3},\n",
    "                    verbose=True)"
   ]
  },
  {
   "cell_type": "code",
   "execution_count": null,
   "metadata": {},
   "outputs": [],
   "source": [
    "sumnet.cpu();\n",
    "pb_pure_sum=sumnet(torch.tensor(pb_pure_test,dtype=torch.float)).detach().numpy()"
   ]
  },
  {
   "cell_type": "markdown",
   "metadata": {},
   "source": [
    "Final Results"
   ]
  },
  {
   "cell_type": "code",
   "execution_count": 23,
   "metadata": {},
   "outputs": [
    {
     "data": {
      "text/plain": [
       "4.874216552739764"
      ]
     },
     "execution_count": 23,
     "metadata": {},
     "output_type": "execute_result"
    }
   ],
   "source": [
    "kraskov_mi(pb_pure_sum,param_test)"
   ]
  },
  {
   "cell_type": "markdown",
   "metadata": {},
   "source": [
    "## Signal With Noise"
   ]
  },
  {
   "cell_type": "markdown",
   "metadata": {},
   "source": [
    "### 1. ST"
   ]
  },
  {
   "cell_type": "code",
   "execution_count": 25,
   "metadata": {},
   "outputs": [],
   "source": [
    "st_ns=np.load('dataset/data_for_paper/signal_with_noise/ST.npy')\n",
    "param=np.load('dataset/data_for_paper/signal_with_noise/params.npy')"
   ]
  },
  {
   "cell_type": "code",
   "execution_count": 26,
   "metadata": {},
   "outputs": [],
   "source": [
    "st_ns=(st_ns-np.mean(st_ns,axis=0))/np.std(st_ns,axis=0)\n",
    "\n",
    "param=(param-np.array([5,1.7]))/np.array([1,0.7])"
   ]
  },
  {
   "cell_type": "code",
   "execution_count": null,
   "metadata": {},
   "outputs": [],
   "source": [
    "st_ns_train,st_ns_test,param_train,param_test= train_test_split(st_ns,param,test_size=0.5,random_state=42)\n",
    "sumnet=train_SumNet(st_ns_train,param_train,\n",
    "                    train_info={'epochs':2000,'batch_size':100,'learning_rate':5e-3},\n",
    "                    verbose=True)"
   ]
  },
  {
   "cell_type": "code",
   "execution_count": null,
   "metadata": {},
   "outputs": [],
   "source": [
    "sumnet.cpu();\n",
    "st_ns_sum=sumnet(torch.tensor(st_ns_test,dtype=torch.float)).detach().numpy()"
   ]
  },
  {
   "cell_type": "markdown",
   "metadata": {},
   "source": [
    "Final Results"
   ]
  },
  {
   "cell_type": "code",
   "execution_count": 28,
   "metadata": {},
   "outputs": [
    {
     "data": {
      "text/plain": [
       "1.0512014589363579"
      ]
     },
     "execution_count": 28,
     "metadata": {},
     "output_type": "execute_result"
    }
   ],
   "source": [
    "kraskov_mi(st_ns_sum,param_test)"
   ]
  },
  {
   "cell_type": "markdown",
   "metadata": {},
   "source": [
    "### 2. PS"
   ]
  },
  {
   "cell_type": "code",
   "execution_count": 28,
   "metadata": {},
   "outputs": [],
   "source": [
    "ps_ns=np.load('dataset/data_for_paper/signal_with_noise/PS.npy')\n",
    "param=np.load('dataset/data_for_paper/signal_with_noise/params.npy')"
   ]
  },
  {
   "cell_type": "code",
   "execution_count": 29,
   "metadata": {},
   "outputs": [],
   "source": [
    "ps_ns=(ps_ns-np.mean(ps_ns,axis=0))/np.std(ps_ns,axis=0)\n",
    "\n",
    "param=(param-np.array([5,1.7]))/np.array([1,0.7])"
   ]
  },
  {
   "cell_type": "code",
   "execution_count": null,
   "metadata": {},
   "outputs": [],
   "source": [
    "ps_ns_train,ps_ns_test,param_train,param_test= train_test_split(ps_ns,param,test_size=0.5,random_state=42)\n",
    "sumnet=train_SumNet(ps_ns_train,param_train,\n",
    "                    train_info={'epochs':2000,'batch_size':100,'learning_rate':5e-3},\n",
    "                    verbose=True)"
   ]
  },
  {
   "cell_type": "code",
   "execution_count": null,
   "metadata": {},
   "outputs": [],
   "source": [
    "sumnet.cpu();\n",
    "ps_ns_sum=sumnet(torch.tensor(ps_ns_test,dtype=torch.float)).detach().numpy()"
   ]
  },
  {
   "cell_type": "markdown",
   "metadata": {},
   "source": [
    "Final Results"
   ]
  },
  {
   "cell_type": "code",
   "execution_count": 32,
   "metadata": {},
   "outputs": [
    {
     "data": {
      "text/plain": [
       "0.6961203179413322"
      ]
     },
     "execution_count": 32,
     "metadata": {},
     "output_type": "execute_result"
    }
   ],
   "source": [
    "kraskov_mi(ps_ns_sum,param_test)"
   ]
  },
  {
   "cell_type": "markdown",
   "metadata": {},
   "source": [
    "### 3. BS"
   ]
  },
  {
   "cell_type": "code",
   "execution_count": 33,
   "metadata": {},
   "outputs": [],
   "source": [
    "bs_ns=np.load('dataset/data_for_paper/signal_with_noise/BS.npy')\n",
    "param=np.load('dataset/data_for_paper/signal_with_noise/params.npy')"
   ]
  },
  {
   "cell_type": "code",
   "execution_count": 34,
   "metadata": {},
   "outputs": [],
   "source": [
    "bs_ns=(bs_ns-np.mean(bs_ns,axis=0))/np.std(bs_ns,axis=0)\n",
    "\n",
    "param=(param-np.array([5,1.7]))/np.array([1,0.7])"
   ]
  },
  {
   "cell_type": "code",
   "execution_count": null,
   "metadata": {},
   "outputs": [],
   "source": [
    "mask=feature_selection(bs_ns,param)\n",
    "bs_ns=bs_ns[:,mask]"
   ]
  },
  {
   "cell_type": "code",
   "execution_count": null,
   "metadata": {},
   "outputs": [],
   "source": [
    "bs_ns_train,bs_ns_test,param_train,param_test= train_test_split(bs_ns,param,test_size=0.5,random_state=42)\n",
    "sumnet=train_SumNet(bs_ns_train,param_train,\n",
    "                    train_info={'epochs':2000,'batch_size':100,'learning_rate':5e-3},\n",
    "                    verbose=True)"
   ]
  },
  {
   "cell_type": "code",
   "execution_count": null,
   "metadata": {},
   "outputs": [],
   "source": [
    "sumnet.cpu();\n",
    "bs_ns_sum=sumnet(torch.tensor(bs_ns_test,dtype=torch.float)).detach().numpy()"
   ]
  },
  {
   "cell_type": "markdown",
   "metadata": {},
   "source": [
    "Final Results"
   ]
  },
  {
   "cell_type": "code",
   "execution_count": null,
   "metadata": {},
   "outputs": [
    {
     "data": {
      "text/plain": [
       "0.6961203179413322"
      ]
     },
     "metadata": {},
     "output_type": "display_data"
    }
   ],
   "source": [
    "kraskov_mi(bs_ns_sum,param_test)"
   ]
  },
  {
   "cell_type": "markdown",
   "metadata": {},
   "source": [
    "### 4. BS&PS"
   ]
  },
  {
   "cell_type": "code",
   "execution_count": 42,
   "metadata": {},
   "outputs": [],
   "source": [
    "bs_ns=np.load('dataset/data_for_paper/signal_with_noise/BS.npy')\n",
    "ps_ns=np.load('dataset/data_for_paper/signal_with_noise/PS.npy')\n",
    "\n",
    "pb_ns=np.hstack([ps_ns,bs_ns])\n",
    "param=np.load('dataset/data_for_paper/signal_with_noise/params.npy')"
   ]
  },
  {
   "cell_type": "code",
   "execution_count": 43,
   "metadata": {},
   "outputs": [],
   "source": [
    "pb_ns=(pb_ns-np.mean(pb_ns,axis=0))/np.std(pb_ns,axis=0)\n",
    "\n",
    "param=(param-np.array([5,1.7]))/np.array([1,0.7])"
   ]
  },
  {
   "cell_type": "code",
   "execution_count": null,
   "metadata": {},
   "outputs": [],
   "source": [
    "mask=feature_selection(pb_ns,param)\n",
    "pb_ns=pb_ns[:,mask]"
   ]
  },
  {
   "cell_type": "code",
   "execution_count": null,
   "metadata": {},
   "outputs": [],
   "source": [
    "pb_ns_train,pb_ns_test,param_train,param_test= train_test_split(pb_ns,param,test_size=0.5,random_state=42)\n",
    "sumnet=train_SumNet(pb_ns_train,param_train,\n",
    "                    train_info={'epochs':2000,'batch_size':100,'learning_rate':5e-3},\n",
    "                    verbose=True)"
   ]
  },
  {
   "cell_type": "code",
   "execution_count": null,
   "metadata": {},
   "outputs": [],
   "source": [
    "sumnet.cpu();\n",
    "pb_ns_sum=sumnet(torch.tensor(pb_ns_test,dtype=torch.float)).detach().numpy()"
   ]
  },
  {
   "cell_type": "markdown",
   "metadata": {},
   "source": [
    "Final Results"
   ]
  },
  {
   "cell_type": "code",
   "execution_count": null,
   "metadata": {},
   "outputs": [
    {
     "data": {
      "text/plain": [
       "0.6961203179413322"
      ]
     },
     "metadata": {},
     "output_type": "display_data"
    }
   ],
   "source": [
    "kraskov_mi(pb_ns_sum,param_test)"
   ]
  },
  {
   "cell_type": "markdown",
   "metadata": {},
   "source": [
    "## Signal with Noise and Foreground"
   ]
  },
  {
   "cell_type": "markdown",
   "metadata": {},
   "source": [
    "### 1. ST"
   ]
  },
  {
   "cell_type": "code",
   "execution_count": 29,
   "metadata": {},
   "outputs": [],
   "source": [
    "st_obs=np.load('dataset/data_for_paper/signal_with_fg_ns/ST.npy')\n",
    "param=np.load('dataset/data_for_paper/signal_with_fg_ns/params.npy')"
   ]
  },
  {
   "cell_type": "code",
   "execution_count": 30,
   "metadata": {},
   "outputs": [],
   "source": [
    "st_obs=(st_obs-np.mean(st_obs,axis=0))/np.std(st_obs,axis=0)\n",
    "\n",
    "param=(param-np.array([5,1.7]))/np.array([1,0.7])"
   ]
  },
  {
   "cell_type": "code",
   "execution_count": null,
   "metadata": {},
   "outputs": [],
   "source": [
    "st_obs_train,st_obs_test,param_train,param_test= train_test_split(st_obs,param,test_size=0.5,random_state=42)\n",
    "sumnet=train_SumNet(st_obs_train,param_train,\n",
    "                    train_info={'epochs':2000,'batch_size':100,'learning_rate':5e-3},\n",
    "                    verbose=True)"
   ]
  },
  {
   "cell_type": "code",
   "execution_count": null,
   "metadata": {},
   "outputs": [],
   "source": [
    "sumnet.cpu();\n",
    "st_obs_sum=sumnet(torch.tensor(st_obs_test,dtype=torch.float)).detach().numpy()"
   ]
  },
  {
   "cell_type": "markdown",
   "metadata": {},
   "source": [
    "Final Results"
   ]
  },
  {
   "cell_type": "code",
   "execution_count": null,
   "metadata": {},
   "outputs": [
    {
     "data": {
      "text/plain": [
       "0.6961203179413322"
      ]
     },
     "metadata": {},
     "output_type": "display_data"
    }
   ],
   "source": [
    "kraskov_mi(st_obs_sum,param_test)"
   ]
  },
  {
   "cell_type": "markdown",
   "metadata": {},
   "source": [
    "### 2. PS"
   ]
  },
  {
   "cell_type": "code",
   "execution_count": 6,
   "metadata": {},
   "outputs": [],
   "source": [
    "ps_obs=np.load('dataset/data_for_paper/signal_with_fg_ns/PS.npy')\n",
    "param=np.load('dataset/data_for_paper/signal_with_fg_ns/params.npy')"
   ]
  },
  {
   "cell_type": "code",
   "execution_count": 7,
   "metadata": {},
   "outputs": [],
   "source": [
    "ps_obs=(ps_obs-np.mean(ps_obs,axis=0))/np.std(ps_obs,axis=0)\n",
    "\n",
    "param=(param-np.array([5,1.7]))/np.array([1,0.7])"
   ]
  },
  {
   "cell_type": "code",
   "execution_count": null,
   "metadata": {},
   "outputs": [],
   "source": [
    "ps_obs_train,ps_obs_test,param_train,param_test= train_test_split(ps_obs,param,test_size=0.5,random_state=42)\n",
    "sumnet=train_SumNet(ps_obs_train,param_train,\n",
    "                    train_info={'epochs':2000,'batch_size':100,'learning_rate':5e-3},\n",
    "                    verbose=True)"
   ]
  },
  {
   "cell_type": "code",
   "execution_count": null,
   "metadata": {},
   "outputs": [],
   "source": [
    "sumnet.cpu();\n",
    "st_obs_sum=sumnet(torch.tensor(ps_obs_test,dtype=torch.float)).detach().numpy()"
   ]
  },
  {
   "cell_type": "markdown",
   "metadata": {},
   "source": [
    "Final Results"
   ]
  },
  {
   "cell_type": "code",
   "execution_count": null,
   "metadata": {},
   "outputs": [
    {
     "data": {
      "text/plain": [
       "0.6961203179413322"
      ]
     },
     "metadata": {},
     "output_type": "display_data"
    }
   ],
   "source": [
    "kraskov_mi(st_obs_sum,param_test)"
   ]
  },
  {
   "cell_type": "markdown",
   "metadata": {},
   "source": [
    "### 3. BS"
   ]
  },
  {
   "cell_type": "code",
   "execution_count": 10,
   "metadata": {},
   "outputs": [],
   "source": [
    "bs_obs=np.load('dataset/data_for_paper/signal_with_fg_ns/BS.npy')\n",
    "param=np.load('dataset/data_for_paper/signal_with_fg_ns/params.npy')"
   ]
  },
  {
   "cell_type": "code",
   "execution_count": 11,
   "metadata": {},
   "outputs": [],
   "source": [
    "bs_obs=(bs_obs-np.mean(bs_obs,axis=0))/np.std(bs_obs,axis=0)\n",
    "\n",
    "param=(param-np.array([5,1.7]))/np.array([1,0.7])"
   ]
  },
  {
   "cell_type": "code",
   "execution_count": null,
   "metadata": {},
   "outputs": [],
   "source": [
    "mask=feature_selection(bs_obs,param)\n",
    "bs_obs=bs_obs[:,mask]"
   ]
  },
  {
   "cell_type": "code",
   "execution_count": null,
   "metadata": {},
   "outputs": [],
   "source": [
    "bs_obs_train,bs_obs_test,param_train,param_test= train_test_split(bs_obs,param,test_size=0.5,random_state=42)\n",
    "sumnet=train_SumNet(bs_obs_train,param_train,\n",
    "                    train_info={'epochs':2000,'batch_size':100,'learning_rate':5e-3},\n",
    "                    verbose=True)"
   ]
  },
  {
   "cell_type": "code",
   "execution_count": null,
   "metadata": {},
   "outputs": [],
   "source": [
    "sumnet.cpu();\n",
    "bs_obs_sum=sumnet(torch.tensor(bs_obs_test,dtype=torch.float)).detach().numpy()"
   ]
  },
  {
   "cell_type": "markdown",
   "metadata": {},
   "source": [
    "Final Results"
   ]
  },
  {
   "cell_type": "code",
   "execution_count": null,
   "metadata": {},
   "outputs": [
    {
     "data": {
      "text/plain": [
       "0.6961203179413322"
      ]
     },
     "metadata": {},
     "output_type": "display_data"
    }
   ],
   "source": [
    "kraskov_mi(bs_obs_sum,param_test)"
   ]
  },
  {
   "cell_type": "markdown",
   "metadata": {},
   "source": [
    "### 4. BS&PS"
   ]
  },
  {
   "cell_type": "code",
   "execution_count": 15,
   "metadata": {},
   "outputs": [],
   "source": [
    "bs_obs=np.load('dataset/data_for_paper/signal_with_fg_ns/BS.npy')\n",
    "ps_obs=np.load('dataset/data_for_paper/signal_with_fg_ns/PS.npy')\n",
    "\n",
    "pb_obs=np.hstack([ps_obs,bs_obs])\n",
    "param=np.load('dataset/data_for_paper/signal_with_fg_ns/params.npy')"
   ]
  },
  {
   "cell_type": "code",
   "execution_count": 16,
   "metadata": {},
   "outputs": [],
   "source": [
    "pb_obs=(pb_obs-np.mean(pb_obs,axis=0))/np.std(pb_obs,axis=0)\n",
    "\n",
    "param=(param-np.array([5,1.7]))/np.array([1,0.7])"
   ]
  },
  {
   "cell_type": "code",
   "execution_count": null,
   "metadata": {},
   "outputs": [],
   "source": [
    "mask=feature_selection(pb_obs,param)\n",
    "pb_obs=pb_obs[:,mask]"
   ]
  },
  {
   "cell_type": "code",
   "execution_count": null,
   "metadata": {},
   "outputs": [],
   "source": [
    "pb_obs_train,pb_obs_test,param_train,param_test= train_test_split(pb_obs,param,test_size=0.5,random_state=42)\n",
    "sumnet=train_SumNet(pb_obs_train,param_train,\n",
    "                    train_info={'epochs':2000,'batch_size':100,'learning_rate':5e-3},\n",
    "                    verbose=True)"
   ]
  },
  {
   "cell_type": "code",
   "execution_count": null,
   "metadata": {},
   "outputs": [],
   "source": [
    "sumnet.cpu();\n",
    "pb_obs_sum=sumnet(torch.tensor(pb_obs_test,dtype=torch.float)).detach().numpy()"
   ]
  },
  {
   "cell_type": "markdown",
   "metadata": {},
   "source": [
    "Final Results"
   ]
  },
  {
   "cell_type": "code",
   "execution_count": null,
   "metadata": {},
   "outputs": [
    {
     "data": {
      "text/plain": [
       "0.6961203179413322"
      ]
     },
     "metadata": {},
     "output_type": "display_data"
    }
   ],
   "source": [
    "kraskov_mi(pb_obs_sum,param_test)"
   ]
  },
  {
   "cell_type": "markdown",
   "metadata": {},
   "source": [
    "## Plot All results"
   ]
  },
  {
   "cell_type": "code",
   "execution_count": 2,
   "metadata": {},
   "outputs": [],
   "source": [
    "re_all=[{'ST_pure': 5.14,\n",
    "  'BS&PS_pure': 4.87,\n",
    "  'PS_pure': 4.04,\n",
    "  'BS_pure': 3.70},\n",
    " {'ST_ns': 1.05,\n",
    "  'BS&PS_ns': 1.00,\n",
    "  'PS_ns': 0.70,\n",
    "  'BS_ns': 0.31},\n",
    " {'ST_obs': 0.53,\n",
    "  'BS&PS_obs': 0.48,\n",
    "  'PS_obs': 0.43,\n",
    "  'BS_obs': -0.04}]"
   ]
  },
  {
   "cell_type": "code",
   "execution_count": 11,
   "metadata": {},
   "outputs": [
    {
     "data": {
      "text/plain": [
       "Text(0.5, 0, 'Summary Statistics')"
      ]
     },
     "execution_count": 11,
     "metadata": {},
     "output_type": "execute_result"
    },
    {
     "data": {
      "image/png": "[encoded data removed]",
      "text/plain": [
       "<Figure size 1512x504 with 1 Axes>"
      ]
     },
     "metadata": {},
     "output_type": "display_data"
    }
   ],
   "source": [
    "import matplotlib.patches as mpatches\n",
    "import matplotlib.pyplot as plt\n",
    "\n",
    "fig=plt.figure(figsize=(21,7),facecolor=(1,1,1))\n",
    "\n",
    "tick_names=[]\n",
    "mi_total=[]\n",
    "for i in range(len(re_all)):\n",
    "    names, mis = zip(*re_all[i].items())\n",
    "    \n",
    "    plt.bar(np.arange(i*4,i*4+4),mis)\n",
    "    \n",
    "    mi_total=mi_total+list(mis)\n",
    "    tick_names=tick_names+list(names)\n",
    "\n",
    "plt.xticks(range(len(tick_names)), labels=tick_names,fontsize=15)\n",
    "for i in range(len(tick_names)):\n",
    "    plt.text(i-0.3, np.array(mi_total[i])+0.05, \"{:.2f}\".format(mi_total[i]), color='black', fontweight='bold',fontsize=15)\n",
    "\n",
    "mi_total=np.array(mi_total)\n",
    "plt.yticks(fontsize=15)\n",
    "patches=[]\n",
    "patches.append(mpatches.Patch(color='tab:blue',label='Pure Signal'))\n",
    "patches.append(mpatches.Patch(color='tab:orange',label='with Thermal Noise'))\n",
    "patches.append(mpatches.Patch(color='tab:green',label='with Thermal Noise and Residual Foreground'))\n",
    "fig.legend(handles=patches,loc=(0.62,0.75),fontsize=15)\n",
    "plt.ylabel(r\"Estimated MI\",fontsize=30)\n",
    "plt.xlabel(\"Summary Statistics\",fontsize=30)"
   ]
  },
  {
   "cell_type": "code",
   "execution_count": null,
   "metadata": {},
   "outputs": [],
   "source": []
  }
 ],
 "metadata": {
  "kernelspec": {
   "display_name": "delfi",
   "language": "python",
   "name": "python3"
  },
  "language_info": {
   "codemirror_mode": {
    "name": "ipython",
    "version": 3
   },
   "file_extension": ".py",
   "mimetype": "text/x-python",
   "name": "python",
   "nbconvert_exporter": "python",
   "pygments_lexer": "ipython3",
   "version": "3.8.13"
  },
  "orig_nbformat": 4
 },
 "nbformat": 4,
 "nbformat_minor": 2
}
