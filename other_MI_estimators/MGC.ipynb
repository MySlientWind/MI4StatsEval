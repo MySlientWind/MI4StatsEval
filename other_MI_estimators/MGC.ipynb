{
 "cells": [
  {
   "cell_type": "code",
   "execution_count": 3,
   "metadata": {},
   "outputs": [],
   "source": [
    "import sys\n",
    "sys.path.append('..')"
   ]
  },
  {
   "cell_type": "code",
   "execution_count": 4,
   "metadata": {},
   "outputs": [],
   "source": [
    "from hyppo.independence import MGC"
   ]
  },
  {
   "cell_type": "code",
   "execution_count": 5,
   "metadata": {},
   "outputs": [],
   "source": [
    "import numpy as np\n",
    "import matplotlib.pyplot as plt\n",
    "\n",
    "from tools.FeatureSelector import feature_selection"
   ]
  },
  {
   "cell_type": "markdown",
   "metadata": {},
   "source": [
    "## Pure Signal"
   ]
  },
  {
   "cell_type": "markdown",
   "metadata": {},
   "source": [
    "### 1.ST"
   ]
  },
  {
   "cell_type": "code",
   "execution_count": 11,
   "metadata": {},
   "outputs": [],
   "source": [
    "st_pure = np.load('../dataset/data_for_paper/pure_signal/ST.npy')\n",
    "param = np.load('../dataset/data_for_paper/pure_signal/params.npy')"
   ]
  },
  {
   "cell_type": "code",
   "execution_count": 12,
   "metadata": {},
   "outputs": [],
   "source": [
    "st_pure = (st_pure - np.mean(st_pure, axis=0)) / np.std(st_pure, axis=0)\n",
    "param = (param - np.array([5, 1.7])) / np.array([1, 0.7])"
   ]
  },
  {
   "cell_type": "code",
   "execution_count": 5,
   "metadata": {},
   "outputs": [
    {
     "data": {
      "text/plain": [
       "0.5879591463077521"
      ]
     },
     "execution_count": 5,
     "metadata": {},
     "output_type": "execute_result"
    }
   ],
   "source": [
    "MGC().statistic(st_pure, param)"
   ]
  },
  {
   "cell_type": "code",
   "execution_count": 90,
   "metadata": {},
   "outputs": [],
   "source": [
    "mask = feature_selection(st_pure, param)\n",
    "st_pure_mask = st_pure[:, mask]"
   ]
  },
  {
   "cell_type": "code",
   "execution_count": 91,
   "metadata": {},
   "outputs": [
    {
     "data": {
      "text/plain": [
       "0.6152998979248356"
      ]
     },
     "execution_count": 91,
     "metadata": {},
     "output_type": "execute_result"
    }
   ],
   "source": [
    "MGC().statistic(st_pure_mask, param)"
   ]
  },
  {
   "cell_type": "markdown",
   "metadata": {},
   "source": [
    "### 2.PS"
   ]
  },
  {
   "cell_type": "code",
   "execution_count": 83,
   "metadata": {},
   "outputs": [],
   "source": [
    "ps_pure=np.load('../dataset/data_for_paper/pure_signal/PS.npy')\n",
    "param=np.load('../dataset/data_for_paper/pure_signal/params.npy')"
   ]
  },
  {
   "cell_type": "code",
   "execution_count": 84,
   "metadata": {},
   "outputs": [],
   "source": [
    "ps_pure=(ps_pure-np.mean(ps_pure,axis=0))/np.std(ps_pure,axis=0)\n",
    "param=(param-np.array([5,1.7]))/np.array([1,0.7])"
   ]
  },
  {
   "cell_type": "code",
   "execution_count": 9,
   "metadata": {},
   "outputs": [
    {
     "data": {
      "text/plain": [
       "0.5804602049205123"
      ]
     },
     "execution_count": 9,
     "metadata": {},
     "output_type": "execute_result"
    }
   ],
   "source": [
    "MGC().statistic(ps_pure, param)"
   ]
  },
  {
   "cell_type": "code",
   "execution_count": 85,
   "metadata": {},
   "outputs": [],
   "source": [
    "mask = feature_selection(ps_pure, param)\n",
    "ps_pure_mask = ps_pure[:, mask]"
   ]
  },
  {
   "cell_type": "code",
   "execution_count": 86,
   "metadata": {},
   "outputs": [
    {
     "data": {
      "text/plain": [
       "0.580460204921499"
      ]
     },
     "execution_count": 86,
     "metadata": {},
     "output_type": "execute_result"
    }
   ],
   "source": [
    "MGC().statistic(ps_pure_mask, param)"
   ]
  },
  {
   "cell_type": "markdown",
   "metadata": {},
   "source": [
    "### 3.BS"
   ]
  },
  {
   "cell_type": "code",
   "execution_count": 79,
   "metadata": {},
   "outputs": [],
   "source": [
    "bs_pure=np.load('../dataset/data_for_paper/pure_signal/BS.npy')\n",
    "param=np.load('../dataset/data_for_paper/pure_signal/params.npy')"
   ]
  },
  {
   "cell_type": "code",
   "execution_count": 80,
   "metadata": {},
   "outputs": [],
   "source": [
    "bs_pure=(bs_pure-np.mean(bs_pure,axis=0))/np.std(bs_pure,axis=0)\n",
    "param=(param-np.array([5,1.7]))/np.array([1,0.7])"
   ]
  },
  {
   "cell_type": "code",
   "execution_count": 14,
   "metadata": {},
   "outputs": [
    {
     "data": {
      "text/plain": [
       "0.44907111631124685"
      ]
     },
     "execution_count": 14,
     "metadata": {},
     "output_type": "execute_result"
    }
   ],
   "source": [
    "MGC().statistic(bs_pure, param)"
   ]
  },
  {
   "cell_type": "code",
   "execution_count": 81,
   "metadata": {},
   "outputs": [],
   "source": [
    "mask = feature_selection(bs_pure, param)\n",
    "bs_pure_mask = bs_pure[:, mask]"
   ]
  },
  {
   "cell_type": "code",
   "execution_count": 82,
   "metadata": {},
   "outputs": [
    {
     "data": {
      "text/plain": [
       "0.5230777636755543"
      ]
     },
     "execution_count": 82,
     "metadata": {},
     "output_type": "execute_result"
    }
   ],
   "source": [
    "MGC().statistic(bs_pure_mask, param)"
   ]
  },
  {
   "cell_type": "markdown",
   "metadata": {},
   "source": [
    "### 4.BS&PS"
   ]
  },
  {
   "cell_type": "code",
   "execution_count": 74,
   "metadata": {},
   "outputs": [],
   "source": [
    "bs=np.load('../dataset/data_for_paper/pure_signal/BS.npy')\n",
    "ps=np.load('../dataset/data_for_paper/pure_signal/PS.npy')\n",
    "pb_pure=np.hstack([ps,bs])\n",
    "param=np.load('../dataset/data_for_paper/pure_signal/params.npy')"
   ]
  },
  {
   "cell_type": "code",
   "execution_count": 75,
   "metadata": {},
   "outputs": [],
   "source": [
    "pb_pure=(pb_pure-np.mean(pb_pure,axis=0))/np.std(pb_pure,axis=0)\n",
    "param=(param-np.array([5,1.7]))/np.array([1,0.7])"
   ]
  },
  {
   "cell_type": "code",
   "execution_count": 17,
   "metadata": {},
   "outputs": [
    {
     "data": {
      "text/plain": [
       "0.6192034725036689"
      ]
     },
     "execution_count": 17,
     "metadata": {},
     "output_type": "execute_result"
    }
   ],
   "source": [
    "MGC().statistic(pb_pure, param)"
   ]
  },
  {
   "cell_type": "code",
   "execution_count": 76,
   "metadata": {},
   "outputs": [],
   "source": [
    "mask = feature_selection(pb_pure, param)\n",
    "pb_pure_mask = pb_pure[:, mask]"
   ]
  },
  {
   "cell_type": "code",
   "execution_count": 77,
   "metadata": {},
   "outputs": [
    {
     "data": {
      "text/plain": [
       "0.6252769782952884"
      ]
     },
     "execution_count": 77,
     "metadata": {},
     "output_type": "execute_result"
    }
   ],
   "source": [
    "MGC().statistic(pb_pure_mask, param)"
   ]
  },
  {
   "cell_type": "markdown",
   "metadata": {},
   "source": [
    "## Signal With Noise"
   ]
  },
  {
   "cell_type": "markdown",
   "metadata": {},
   "source": [
    "### 1.ST"
   ]
  },
  {
   "cell_type": "code",
   "execution_count": 69,
   "metadata": {},
   "outputs": [],
   "source": [
    "st_ns=np.load('../dataset/data_for_paper/signal_with_noise/ST.npy')\n",
    "param=np.load('../dataset/data_for_paper/signal_with_noise/params.npy')"
   ]
  },
  {
   "cell_type": "code",
   "execution_count": 70,
   "metadata": {},
   "outputs": [],
   "source": [
    "st_ns=(st_ns-np.mean(st_ns,axis=0))/np.std(st_ns,axis=0)\n",
    "\n",
    "param=(param-np.array([5,1.7]))/np.array([1,0.7])"
   ]
  },
  {
   "cell_type": "code",
   "execution_count": 20,
   "metadata": {},
   "outputs": [
    {
     "data": {
      "text/plain": [
       "0.32929598666656673"
      ]
     },
     "execution_count": 20,
     "metadata": {},
     "output_type": "execute_result"
    }
   ],
   "source": [
    "MGC().statistic(st_ns, param)"
   ]
  },
  {
   "cell_type": "code",
   "execution_count": 71,
   "metadata": {},
   "outputs": [],
   "source": [
    "mask = feature_selection(st_ns, param)\n",
    "st_ns_mask = st_ns[:, mask]"
   ]
  },
  {
   "cell_type": "code",
   "execution_count": 72,
   "metadata": {},
   "outputs": [
    {
     "data": {
      "text/plain": [
       "0.3665880977161033"
      ]
     },
     "execution_count": 72,
     "metadata": {},
     "output_type": "execute_result"
    }
   ],
   "source": [
    "MGC().statistic(st_ns_mask, param)"
   ]
  },
  {
   "cell_type": "markdown",
   "metadata": {},
   "source": [
    "### 2.PS"
   ]
  },
  {
   "cell_type": "code",
   "execution_count": 65,
   "metadata": {},
   "outputs": [],
   "source": [
    "ps_ns=np.load('../dataset/data_for_paper/signal_with_noise/PS.npy')\n",
    "param=np.load('../dataset/data_for_paper/signal_with_noise/params.npy')"
   ]
  },
  {
   "cell_type": "code",
   "execution_count": 66,
   "metadata": {},
   "outputs": [],
   "source": [
    "ps_ns=(ps_ns-np.mean(ps_ns,axis=0))/np.std(ps_ns,axis=0)\n",
    "\n",
    "param=(param-np.array([5,1.7]))/np.array([1,0.7])"
   ]
  },
  {
   "cell_type": "code",
   "execution_count": 23,
   "metadata": {},
   "outputs": [
    {
     "data": {
      "text/plain": [
       "0.26350836442937337"
      ]
     },
     "execution_count": 23,
     "metadata": {},
     "output_type": "execute_result"
    }
   ],
   "source": [
    "MGC().statistic(ps_ns, param)"
   ]
  },
  {
   "cell_type": "code",
   "execution_count": 67,
   "metadata": {},
   "outputs": [],
   "source": [
    "mask = feature_selection(ps_ns, param)\n",
    "ps_ns_mask = ps_ns[:, mask]"
   ]
  },
  {
   "cell_type": "code",
   "execution_count": 68,
   "metadata": {},
   "outputs": [
    {
     "data": {
      "text/plain": [
       "0.31090531253075215"
      ]
     },
     "execution_count": 68,
     "metadata": {},
     "output_type": "execute_result"
    }
   ],
   "source": [
    "MGC().statistic(ps_ns_mask, param)"
   ]
  },
  {
   "cell_type": "markdown",
   "metadata": {},
   "source": [
    "### 3.BS"
   ]
  },
  {
   "cell_type": "code",
   "execution_count": 61,
   "metadata": {},
   "outputs": [],
   "source": [
    "bs_ns=np.load('../dataset/data_for_paper/signal_with_noise/BS.npy')\n",
    "param=np.load('../dataset/data_for_paper/signal_with_noise/params.npy')"
   ]
  },
  {
   "cell_type": "code",
   "execution_count": 62,
   "metadata": {},
   "outputs": [],
   "source": [
    "bs_ns=(bs_ns-np.mean(bs_ns,axis=0))/np.std(bs_ns,axis=0)\n",
    "param=(param-np.array([5,1.7]))/np.array([1,0.7])"
   ]
  },
  {
   "cell_type": "code",
   "execution_count": 27,
   "metadata": {},
   "outputs": [
    {
     "data": {
      "text/plain": [
       "0.0971212015724331"
      ]
     },
     "execution_count": 27,
     "metadata": {},
     "output_type": "execute_result"
    }
   ],
   "source": [
    "MGC().statistic(bs_ns, param)"
   ]
  },
  {
   "cell_type": "code",
   "execution_count": 63,
   "metadata": {},
   "outputs": [],
   "source": [
    "mask = feature_selection(bs_ns, param)\n",
    "bs_ns_mask = bs_ns[:, mask]"
   ]
  },
  {
   "cell_type": "code",
   "execution_count": 64,
   "metadata": {},
   "outputs": [
    {
     "data": {
      "text/plain": [
       "0.11002907609852618"
      ]
     },
     "execution_count": 64,
     "metadata": {},
     "output_type": "execute_result"
    }
   ],
   "source": [
    "MGC().statistic(bs_ns_mask, param)"
   ]
  },
  {
   "cell_type": "markdown",
   "metadata": {},
   "source": [
    "### 4.BS&PS"
   ]
  },
  {
   "cell_type": "code",
   "execution_count": 53,
   "metadata": {},
   "outputs": [],
   "source": [
    "bs_ns=np.load('../dataset/data_for_paper/signal_with_noise/BS.npy')\n",
    "ps_ns=np.load('../dataset/data_for_paper/signal_with_noise/PS.npy')\n",
    "\n",
    "pb_ns=np.hstack([ps_ns,bs_ns])\n",
    "param=np.load('../dataset/data_for_paper/signal_with_noise/params.npy')"
   ]
  },
  {
   "cell_type": "code",
   "execution_count": 54,
   "metadata": {},
   "outputs": [],
   "source": [
    "pb_ns=(pb_ns-np.mean(pb_ns,axis=0))/np.std(pb_ns,axis=0)\n",
    "\n",
    "param=(param-np.array([5,1.7]))/np.array([1,0.7])"
   ]
  },
  {
   "cell_type": "code",
   "execution_count": 30,
   "metadata": {},
   "outputs": [
    {
     "data": {
      "text/plain": [
       "0.20264445037516818"
      ]
     },
     "execution_count": 30,
     "metadata": {},
     "output_type": "execute_result"
    }
   ],
   "source": [
    "MGC().statistic(pb_ns, param)"
   ]
  },
  {
   "cell_type": "code",
   "execution_count": 59,
   "metadata": {},
   "outputs": [],
   "source": [
    "mask = feature_selection(pb_ns, param)\n",
    "pb_ns_mask = pb_ns[:, mask]"
   ]
  },
  {
   "cell_type": "code",
   "execution_count": 60,
   "metadata": {},
   "outputs": [
    {
     "data": {
      "text/plain": [
       "0.27458673489249774"
      ]
     },
     "execution_count": 60,
     "metadata": {},
     "output_type": "execute_result"
    }
   ],
   "source": [
    "MGC().statistic(pb_ns_mask, param)"
   ]
  },
  {
   "cell_type": "markdown",
   "metadata": {},
   "source": [
    "## Signal with Noise and Foreground"
   ]
  },
  {
   "cell_type": "markdown",
   "metadata": {},
   "source": [
    "### 1.ST"
   ]
  },
  {
   "cell_type": "code",
   "execution_count": 19,
   "metadata": {},
   "outputs": [],
   "source": [
    "st_obs = np.load('../dataset/data_for_paper/signal_with_fg_ns/ST.npy')\n",
    "param = np.load('../dataset/data_for_paper/signal_with_fg_ns/params.npy')"
   ]
  },
  {
   "cell_type": "code",
   "execution_count": 20,
   "metadata": {},
   "outputs": [],
   "source": [
    "st_obs=(st_obs-np.mean(st_obs,axis=0))/np.std(st_obs,axis=0)\n",
    "param=(param-np.array([5,1.7]))/np.array([1,0.7])"
   ]
  },
  {
   "cell_type": "code",
   "execution_count": 33,
   "metadata": {},
   "outputs": [
    {
     "data": {
      "text/plain": [
       "0.22065656565490743"
      ]
     },
     "execution_count": 33,
     "metadata": {},
     "output_type": "execute_result"
    }
   ],
   "source": [
    "MGC().statistic(st_obs, param)"
   ]
  },
  {
   "cell_type": "code",
   "execution_count": 21,
   "metadata": {},
   "outputs": [],
   "source": [
    "mask = feature_selection(st_obs, param)\n",
    "st_obs_mask = st_obs[:, mask]"
   ]
  },
  {
   "cell_type": "code",
   "execution_count": 22,
   "metadata": {},
   "outputs": [
    {
     "data": {
      "text/plain": [
       "0.22543273963088972"
      ]
     },
     "execution_count": 22,
     "metadata": {},
     "output_type": "execute_result"
    }
   ],
   "source": [
    "MGC().statistic(st_obs_mask, param)"
   ]
  },
  {
   "cell_type": "markdown",
   "metadata": {},
   "source": [
    "### 2.PS"
   ]
  },
  {
   "cell_type": "code",
   "execution_count": 7,
   "metadata": {},
   "outputs": [],
   "source": [
    "ps_obs=np.load('../dataset/data_for_paper/signal_with_fg_ns/PS.npy')\n",
    "param=np.load('../dataset/data_for_paper/signal_with_fg_ns/params.npy')"
   ]
  },
  {
   "cell_type": "code",
   "execution_count": 8,
   "metadata": {},
   "outputs": [],
   "source": [
    "ps_obs=(ps_obs-np.mean(ps_obs,axis=0))/np.std(ps_obs,axis=0)\n",
    "param=(param-np.array([5,1.7]))/np.array([1,0.7])"
   ]
  },
  {
   "cell_type": "code",
   "execution_count": 36,
   "metadata": {},
   "outputs": [
    {
     "data": {
      "text/plain": [
       "0.16466107544384792"
      ]
     },
     "execution_count": 36,
     "metadata": {},
     "output_type": "execute_result"
    }
   ],
   "source": [
    "MGC().statistic(ps_obs, param)"
   ]
  },
  {
   "cell_type": "code",
   "execution_count": 9,
   "metadata": {},
   "outputs": [],
   "source": [
    "mask = feature_selection(ps_obs, param)\n",
    "ps_obs_mask = ps_obs[:, mask]"
   ]
  },
  {
   "cell_type": "code",
   "execution_count": 10,
   "metadata": {},
   "outputs": [
    {
     "data": {
      "text/plain": [
       "0.16405717163939837"
      ]
     },
     "execution_count": 10,
     "metadata": {},
     "output_type": "execute_result"
    }
   ],
   "source": [
    "MGC().statistic(ps_obs_mask, param)"
   ]
  },
  {
   "cell_type": "markdown",
   "metadata": {},
   "source": [
    "### 3.BS"
   ]
  },
  {
   "cell_type": "code",
   "execution_count": 11,
   "metadata": {},
   "outputs": [],
   "source": [
    "bs_obs=np.load('../dataset/data_for_paper/signal_with_fg_ns/BS.npy')\n",
    "param=np.load('../dataset/data_for_paper/signal_with_fg_ns/params.npy')"
   ]
  },
  {
   "cell_type": "code",
   "execution_count": 12,
   "metadata": {},
   "outputs": [],
   "source": [
    "bs_obs=(bs_obs-np.mean(bs_obs,axis=0))/np.std(bs_obs,axis=0)\n",
    "param=(param-np.array([5,1.7]))/np.array([1,0.7])"
   ]
  },
  {
   "cell_type": "code",
   "execution_count": 39,
   "metadata": {},
   "outputs": [
    {
     "data": {
      "text/plain": [
       "0.014259165937525643"
      ]
     },
     "execution_count": 39,
     "metadata": {},
     "output_type": "execute_result"
    }
   ],
   "source": [
    "MGC().statistic(bs_obs, param)"
   ]
  },
  {
   "cell_type": "code",
   "execution_count": 13,
   "metadata": {},
   "outputs": [],
   "source": [
    "mask = feature_selection(bs_obs, param)\n",
    "bs_obs_mask = bs_obs[:, mask]"
   ]
  },
  {
   "cell_type": "code",
   "execution_count": 14,
   "metadata": {},
   "outputs": [
    {
     "data": {
      "text/plain": [
       "0.019305757949638225"
      ]
     },
     "execution_count": 14,
     "metadata": {},
     "output_type": "execute_result"
    }
   ],
   "source": [
    "MGC().statistic(bs_obs_mask, param)"
   ]
  },
  {
   "cell_type": "markdown",
   "metadata": {},
   "source": [
    "### 4.BS&PS"
   ]
  },
  {
   "cell_type": "code",
   "execution_count": 15,
   "metadata": {},
   "outputs": [],
   "source": [
    "bs_obs=np.load('../dataset/data_for_paper/signal_with_fg_ns/BS.npy')\n",
    "ps_obs=np.load('../dataset/data_for_paper/signal_with_fg_ns/PS.npy')\n",
    "\n",
    "pb_obs=np.hstack([ps_obs,bs_obs])\n",
    "param=np.load('../dataset/data_for_paper/signal_with_fg_ns/params.npy')"
   ]
  },
  {
   "cell_type": "code",
   "execution_count": 16,
   "metadata": {},
   "outputs": [],
   "source": [
    "pb_obs=(pb_obs-np.mean(pb_obs,axis=0))/np.std(pb_obs,axis=0)\n",
    "\n",
    "param=(param-np.array([5,1.7]))/np.array([1,0.7])"
   ]
  },
  {
   "cell_type": "code",
   "execution_count": 43,
   "metadata": {},
   "outputs": [
    {
     "data": {
      "text/plain": [
       "0.05123509221003727"
      ]
     },
     "execution_count": 43,
     "metadata": {},
     "output_type": "execute_result"
    }
   ],
   "source": [
    "MGC().statistic(pb_obs, param)"
   ]
  },
  {
   "cell_type": "code",
   "execution_count": 17,
   "metadata": {},
   "outputs": [],
   "source": [
    "mask = feature_selection(pb_obs, param)\n",
    "pb_obs_mask = pb_obs[:, mask]"
   ]
  },
  {
   "cell_type": "code",
   "execution_count": 18,
   "metadata": {},
   "outputs": [
    {
     "data": {
      "text/plain": [
       "0.13446488132761403"
      ]
     },
     "execution_count": 18,
     "metadata": {},
     "output_type": "execute_result"
    }
   ],
   "source": [
    "MGC().statistic(pb_obs_mask, param)"
   ]
  },
  {
   "cell_type": "markdown",
   "metadata": {},
   "source": [
    "## Plot All Results"
   ]
  },
  {
   "cell_type": "code",
   "execution_count": 6,
   "metadata": {},
   "outputs": [],
   "source": [
    "re_all_pure = [{\n",
    "    'ST_pure': 0.5879591463077521,\n",
    "    'BS&PS_pure': 0.6192034725036689,\n",
    "    'PS_pure': 0.5804602049205123,\n",
    "    'BS_pure': 0.44907111631124685\n",
    "}, {\n",
    "    'ST_ns': 0.32929598666656673,\n",
    "    'BS&PS_ns': 0.20264445037516818,\n",
    "    'PS_ns': 0.26350836442937337,\n",
    "    'BS_ns': 0.0971212015724331\n",
    "}, {\n",
    "    'ST_obs': 0.22065656565490743,\n",
    "    'BS&PS_obs': 0.05123509221003727,\n",
    "    'PS_obs': 0.16466107544384792,\n",
    "    'BS_obs': 0.014259165937525643\n",
    "}]\n",
    "\n",
    "re_all_fs = [{\n",
    "    'ST_pure': 0.6152998979248356,\n",
    "    'BS&PS_pure': 0.6252769782952884,\n",
    "    'PS_pure': 0.580460204921499,\n",
    "    'BS_pure': 0.5230777636755543\n",
    "}, {\n",
    "    'ST_ns': 0.3665880977161033,\n",
    "    'BS&PS_ns': 0.27458673489249774,\n",
    "    'PS_ns': 0.31090531253075215,\n",
    "    'BS_ns': 0.11002907609852618\n",
    "}, {\n",
    "    'ST_obs': 0.22543273963088972,\n",
    "    'BS&PS_obs': 0.13446488132761403,\n",
    "    'PS_obs': 0.16405717163939837,\n",
    "    'BS_obs': 0.019305757949638225\n",
    "}]"
   ]
  },
  {
   "cell_type": "code",
   "execution_count": 9,
   "metadata": {},
   "outputs": [],
   "source": [
    "from tools.Ploter import plot_compare_bar\n",
    "import matplotlib.patches as mpatches"
   ]
  },
  {
   "cell_type": "code",
   "execution_count": 10,
   "metadata": {},
   "outputs": [
    {
     "data": {
      "text/plain": [
       "<matplotlib.legend.Legend at 0x7fef3b043f40>"
      ]
     },
     "execution_count": 10,
     "metadata": {},
     "output_type": "execute_result"
    },
    {
     "data": {
      "image/png": "[encoded data removed]",
      "text/plain": [
       "<Figure size 2100x700 with 1 Axes>"
      ]
     },
     "metadata": {},
     "output_type": "display_data"
    }
   ],
   "source": [
    "values_all = [\n",
    "    re_all_pure[0]['ST_pure'], re_all_pure[0]['BS&PS_pure'],\n",
    "    re_all_pure[0]['PS_pure'], re_all_pure[0]['BS_pure'],\n",
    "    re_all_pure[1]['ST_ns'], re_all_pure[1]['BS&PS_ns'],\n",
    "    re_all_pure[1]['PS_ns'], re_all_pure[1]['BS_ns'], re_all_pure[2]['ST_obs'],\n",
    "    re_all_pure[2]['BS&PS_obs'], re_all_pure[2]['PS_obs'],\n",
    "    re_all_pure[2]['BS_obs']\n",
    "]\n",
    "\n",
    "values_fs = [\n",
    "    re_all_fs[0]['ST_pure'], re_all_fs[0]['BS&PS_pure'],\n",
    "    re_all_fs[0]['PS_pure'], re_all_fs[0]['BS_pure'], re_all_fs[1]['ST_ns'],\n",
    "    re_all_fs[1]['BS&PS_ns'], re_all_fs[1]['PS_ns'], re_all_fs[1]['BS_ns'],\n",
    "    re_all_fs[2]['ST_obs'], re_all_fs[2]['BS&PS_obs'], re_all_fs[2]['PS_obs'],\n",
    "    re_all_fs[2]['BS_obs']\n",
    "]\n",
    "\n",
    "labels = ['ST_pure', 'BS&PS_pure', 'PS_pure', 'BS_pure'] * 3\n",
    "colors = ['tab:blue'] * 4 + ['tab:orange'] * 4 + ['tab:green'] * 4\n",
    "\n",
    "fig = plt.figure(figsize=(21, 7), facecolor=(1, 1, 1))\n",
    "fontsize = 15\n",
    "\n",
    "plot_compare_bar(values_fs,\n",
    "                 labels,\n",
    "                 colors,\n",
    "                 kw_xticks={'fontsize': fontsize},\n",
    "                 kw_text={'fontsize': fontsize})\n",
    "\n",
    "# bar not fill, just edge\n",
    "plot_compare_bar(values_all,\n",
    "                 labels,\n",
    "                 colors,\n",
    "                 show_text=False,\n",
    "                 kw_bar={\n",
    "                     'edgecolor': 'black',\n",
    "                     'linewidth': 2,\n",
    "                     'fill': False\n",
    "                 },\n",
    "                 kw_xticks={'fontsize': fontsize},\n",
    "                 kw_text={\n",
    "                     'fontsize': fontsize,\n",
    "                     'color': 'grey',\n",
    "                     'va': 'top'\n",
    "                 })\n",
    "plt.yticks(fontsize=fontsize)\n",
    "plt.ylabel(r\"MGC\", fontsize=fontsize)\n",
    "plt.xlabel(\"Summary Statistics\", fontsize=fontsize)\n",
    "plt.ylim(0, 0.7)\n",
    "\n",
    "patches = [\n",
    "    mpatches.Patch(color='tab:blue', label='Pure Signal'),\n",
    "    mpatches.Patch(color='tab:orange', label='with Thermal Noise'),\n",
    "    mpatches.Patch(color='tab:green',\n",
    "                   label='with Thermal Noise and Residual Foreground')\n",
    "]\n",
    "fig.legend(handles=patches, loc=(0.62, 0.75), fontsize=15)"
   ]
  },
  {
   "cell_type": "code",
   "execution_count": null,
   "metadata": {},
   "outputs": [],
   "source": []
  }
 ],
 "metadata": {
  "kernelspec": {
   "display_name": "science",
   "language": "python",
   "name": "python3"
  },
  "language_info": {
   "codemirror_mode": {
    "name": "ipython",
    "version": 3
   },
   "file_extension": ".py",
   "mimetype": "text/x-python",
   "name": "python",
   "nbconvert_exporter": "python",
   "pygments_lexer": "ipython3",
   "version": "3.9.18"
  }
 },
 "nbformat": 4,
 "nbformat_minor": 2
}
