{
 "cells": [
  {
   "cell_type": "code",
   "execution_count": 7,
   "metadata": {},
   "outputs": [],
   "source": [
    "import sys\n",
    "sys.path.append('..')"
   ]
  },
  {
   "cell_type": "code",
   "execution_count": 8,
   "metadata": {},
   "outputs": [],
   "source": [
    "from hyppo.independence import MGC"
   ]
  },
  {
   "cell_type": "code",
   "execution_count": 9,
   "metadata": {},
   "outputs": [],
   "source": [
    "import numpy as np\n",
    "import matplotlib.pyplot as plt\n",
    "import matplotlib\n",
    "\n",
    "from tools.FeatureSelector import feature_selection"
   ]
  },
  {
   "cell_type": "markdown",
   "metadata": {},
   "source": [
    "## 1.PS"
   ]
  },
  {
   "cell_type": "code",
   "execution_count": 3,
   "metadata": {},
   "outputs": [],
   "source": [
    "ps=np.load('../dataset/CMB_data/ps.npy')[:,1:]\n",
    "param=np.load('../dataset/CMB_data/param.npy')"
   ]
  },
  {
   "cell_type": "code",
   "execution_count": 4,
   "metadata": {},
   "outputs": [],
   "source": [
    "ps = (ps - np.mean(ps, axis=0)) / np.std(ps, axis=0)\n",
    "\n",
    "param = 2 * ((param - np.min(param, axis=0)) /\n",
    "             (np.max(param, axis=0) - np.min(param, axis=0)) - 1 / 2)"
   ]
  },
  {
   "cell_type": "code",
   "execution_count": 5,
   "metadata": {},
   "outputs": [
    {
     "data": {
      "text/plain": [
       "0.6363783377117477"
      ]
     },
     "execution_count": 5,
     "metadata": {},
     "output_type": "execute_result"
    }
   ],
   "source": [
    "MGC().statistic(ps, param)"
   ]
  },
  {
   "cell_type": "code",
   "execution_count": 10,
   "metadata": {},
   "outputs": [],
   "source": [
    "mask = feature_selection(ps, param)\n",
    "ps_mask = ps[:, mask]"
   ]
  },
  {
   "cell_type": "code",
   "execution_count": 11,
   "metadata": {},
   "outputs": [
    {
     "data": {
      "text/plain": [
       "0.6653026350262373"
      ]
     },
     "execution_count": 11,
     "metadata": {},
     "output_type": "execute_result"
    }
   ],
   "source": [
    "MGC().statistic(ps_mask, param)"
   ]
  },
  {
   "cell_type": "markdown",
   "metadata": {},
   "source": [
    "## 2.BS"
   ]
  },
  {
   "cell_type": "code",
   "execution_count": 12,
   "metadata": {},
   "outputs": [],
   "source": [
    "bs=np.load('../dataset/CMB_data/bs.npy')[:,1:]\n",
    "param=np.load('../dataset/CMB_data/param.npy')"
   ]
  },
  {
   "cell_type": "code",
   "execution_count": 13,
   "metadata": {},
   "outputs": [],
   "source": [
    "bs=(bs-np.mean(bs,axis=0))/np.std(bs,axis=0)\n",
    "param=2*((param-np.min(param,axis=0))/(np.max(param,axis=0)-np.min(param,axis=0))-1/2)"
   ]
  },
  {
   "cell_type": "code",
   "execution_count": 14,
   "metadata": {},
   "outputs": [
    {
     "data": {
      "text/plain": [
       "0.00171201639497075"
      ]
     },
     "execution_count": 14,
     "metadata": {},
     "output_type": "execute_result"
    }
   ],
   "source": [
    "MGC().statistic(bs, param)"
   ]
  },
  {
   "cell_type": "code",
   "execution_count": 15,
   "metadata": {},
   "outputs": [],
   "source": [
    "mask = feature_selection(bs, param)\n",
    "bs_mask = bs[:, mask]"
   ]
  },
  {
   "cell_type": "code",
   "execution_count": 16,
   "metadata": {},
   "outputs": [
    {
     "data": {
      "text/plain": [
       "0.0028387222107269902"
      ]
     },
     "execution_count": 16,
     "metadata": {},
     "output_type": "execute_result"
    }
   ],
   "source": [
    "MGC().statistic(bs_mask, param)"
   ]
  },
  {
   "cell_type": "markdown",
   "metadata": {},
   "source": [
    "## 3.PS&BS"
   ]
  },
  {
   "cell_type": "code",
   "execution_count": 17,
   "metadata": {},
   "outputs": [],
   "source": [
    "ps = np.load('../dataset/CMB_data/ps.npy')[:, 1:]\n",
    "bs = np.load('../dataset/CMB_data/bs.npy')[:, 1:]\n",
    "pb = np.hstack([ps, bs])\n",
    "param = np.load('../dataset/CMB_data/param.npy')"
   ]
  },
  {
   "cell_type": "code",
   "execution_count": 18,
   "metadata": {},
   "outputs": [],
   "source": [
    "pb = (pb - np.mean(pb, axis=0)) / np.std(pb, axis=0)\n",
    "param = 2 * ((param - np.min(param, axis=0)) /\n",
    "             (np.max(param, axis=0) - np.min(param, axis=0)) - 1 / 2)"
   ]
  },
  {
   "cell_type": "code",
   "execution_count": 19,
   "metadata": {},
   "outputs": [
    {
     "data": {
      "text/plain": [
       "0.5554388103946328"
      ]
     },
     "execution_count": 19,
     "metadata": {},
     "output_type": "execute_result"
    }
   ],
   "source": [
    "MGC().statistic(pb, param)"
   ]
  },
  {
   "cell_type": "code",
   "execution_count": 20,
   "metadata": {},
   "outputs": [],
   "source": [
    "mask = feature_selection(pb, param)\n",
    "pb_mask = pb[:, mask]"
   ]
  },
  {
   "cell_type": "code",
   "execution_count": 21,
   "metadata": {},
   "outputs": [
    {
     "data": {
      "text/plain": [
       "0.6653026350262373"
      ]
     },
     "execution_count": 21,
     "metadata": {},
     "output_type": "execute_result"
    }
   ],
   "source": [
    "MGC().statistic(pb_mask, param)"
   ]
  },
  {
   "cell_type": "markdown",
   "metadata": {},
   "source": [
    "## 4.ST"
   ]
  },
  {
   "cell_type": "code",
   "execution_count": 22,
   "metadata": {},
   "outputs": [],
   "source": [
    "st = np.load('../dataset/CMB_data/st.npy')\n",
    "param = np.load('../dataset/CMB_data/param.npy')"
   ]
  },
  {
   "cell_type": "code",
   "execution_count": 23,
   "metadata": {},
   "outputs": [],
   "source": [
    "st = (st - np.mean(st, axis=0)) / np.std(st, axis=0)\n",
    "param = 2 * ((param - np.min(param, axis=0)) /\n",
    "             (np.max(param, axis=0) - np.min(param, axis=0)) - 1 / 2)"
   ]
  },
  {
   "cell_type": "code",
   "execution_count": 24,
   "metadata": {},
   "outputs": [
    {
     "data": {
      "text/plain": [
       "0.576369942259054"
      ]
     },
     "execution_count": 24,
     "metadata": {},
     "output_type": "execute_result"
    }
   ],
   "source": [
    "MGC().statistic(st, param)"
   ]
  },
  {
   "cell_type": "code",
   "execution_count": 25,
   "metadata": {},
   "outputs": [],
   "source": [
    "mask = feature_selection(st, param)\n",
    "st_mask = st[:, mask]"
   ]
  },
  {
   "cell_type": "code",
   "execution_count": 26,
   "metadata": {},
   "outputs": [
    {
     "data": {
      "text/plain": [
       "0.6378870002246059"
      ]
     },
     "execution_count": 26,
     "metadata": {},
     "output_type": "execute_result"
    }
   ],
   "source": [
    "MGC().statistic(st_mask, param)"
   ]
  },
  {
   "cell_type": "markdown",
   "metadata": {},
   "source": [
    "## Plot"
   ]
  },
  {
   "cell_type": "code",
   "execution_count": 29,
   "metadata": {},
   "outputs": [],
   "source": [
    "re_all_pure = [{\n",
    "    'ps': 0.6363783377117477,\n",
    "    'ps&bs': 0.5554388103946328,\n",
    "    'st': 0.576369942259054,\n",
    "    'bs': 0.00171201639497075,\n",
    "}]\n",
    "\n",
    "re_all_fs = [{\n",
    "    'ps': 0.6653026350262373,\n",
    "    'ps&bs': 0.6653026350262373,\n",
    "    'st': 0.6378870002246059,\n",
    "    'bs': 0.0028387222107269902,\n",
    "}]"
   ]
  },
  {
   "cell_type": "code",
   "execution_count": 31,
   "metadata": {},
   "outputs": [],
   "source": [
    "from tools.Ploter import plot_compare_bar\n",
    "import matplotlib.patches as mpatches"
   ]
  },
  {
   "cell_type": "code",
   "execution_count": 34,
   "metadata": {},
   "outputs": [
    {
     "data": {
      "text/plain": [
       "(0.0, 0.7)"
      ]
     },
     "execution_count": 34,
     "metadata": {},
     "output_type": "execute_result"
    },
    {
     "data": {
      "image/png": "[encoded data removed]",
      "text/plain": [
       "<Figure size 2100x700 with 1 Axes>"
      ]
     },
     "metadata": {},
     "output_type": "display_data"
    }
   ],
   "source": [
    "values_all = [\n",
    "    re_all_pure[0]['ps'], re_all_pure[0]['ps&bs'], re_all_pure[0]['st'],\n",
    "    re_all_pure[0]['bs']\n",
    "]\n",
    "\n",
    "values_fs = [\n",
    "    re_all_fs[0]['ps'], re_all_fs[0]['ps&bs'], re_all_fs[0]['st'],\n",
    "    re_all_fs[0]['bs']\n",
    "]\n",
    "\n",
    "labels = ['BS&PS_pure', 'PS_pure', 'ST_pure', 'BS_pure']\n",
    "colors = ['tab:blue'] * 4\n",
    "\n",
    "fig = plt.figure(figsize=(21, 7), facecolor=(1, 1, 1))\n",
    "fontsize = 15\n",
    "\n",
    "plot_compare_bar(values_fs,\n",
    "                 labels,\n",
    "                 colors,\n",
    "                 kw_xticks={'fontsize': fontsize},\n",
    "                 kw_text={'fontsize': fontsize})\n",
    "\n",
    "# bar not fill, just edge\n",
    "plot_compare_bar(values_all,\n",
    "                 labels,\n",
    "                 colors,\n",
    "                 show_text=False,\n",
    "                 kw_bar={\n",
    "                     'edgecolor': 'black',\n",
    "                     'linewidth': 2,\n",
    "                     'fill': False\n",
    "                 },\n",
    "                 kw_xticks={'fontsize': fontsize},\n",
    "                 kw_text={\n",
    "                     'fontsize': fontsize,\n",
    "                     'color': 'grey',\n",
    "                     'va': 'top'\n",
    "                 })\n",
    "plt.yticks(fontsize=fontsize)\n",
    "plt.ylabel(r\"MGC\", fontsize=fontsize)\n",
    "plt.xlabel(\"Summary Statistics\", fontsize=fontsize)\n",
    "plt.ylim(0, 0.7)\n",
    "\n",
    "# patches = [\n",
    "#     mpatches.Patch(color='tab:blue', label='Pure Signal'),\n",
    "#     mpatches.Patch(color='tab:orange', label='with Thermal Noise'),\n",
    "#     mpatches.Patch(color='tab:green',\n",
    "#                    label='with Thermal Noise and Residual Foreground')\n",
    "# ]\n",
    "# fig.legend(handles=patches, loc=(0.62, 0.75), fontsize=15)"
   ]
  }
 ],
 "metadata": {
  "kernelspec": {
   "display_name": "science",
   "language": "python",
   "name": "python3"
  },
  "language_info": {
   "codemirror_mode": {
    "name": "ipython",
    "version": 3
   },
   "file_extension": ".py",
   "mimetype": "text/x-python",
   "name": "python",
   "nbconvert_exporter": "python",
   "pygments_lexer": "ipython3",
   "version": "3.9.18"
  }
 },
 "nbformat": 4,
 "nbformat_minor": 2
}
